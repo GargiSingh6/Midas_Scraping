{
 "cells": [
  {
   "cell_type": "code",
   "execution_count": 169,
   "metadata": {},
   "outputs": [],
   "source": [
    "import requests \n",
    "import json\n",
    "from bs4 import BeautifulSoup\n",
    "\n",
    "data=requests.get(\"http://midas.iiitd.edu.in/\")\n",
    "\n",
    "Midaslabs=BeautifulSoup(data.content)\n",
    "Midastitle=Midaslabs.find(\"title\")\n",
    "Title=Midastitle.get_text()\n",
    "r=open(\"Midasfinal.txt\",\"w+\")\n",
    "r.write(\"Title: \"+Title+\"  \")\n",
    "Midascontent=Midaslabs.find(\"p\")\n",
    "r.write(Midascontent.get_text()+\"                                                                                         \")\n",
    "Midaslink=Midaslabs.find_all(\"link\")\n",
    "p=[]\n",
    "for l in Midaslink:\n",
    "    p.append(str(l))\n",
    "for l in p:\n",
    "    r.write(l[12:-3])\n",
    "image_url=\"http://midas.iiitd.edu.in/assets/themes/lab/images/banner/banner.jpeg\"\n",
    "a=requests.get(image_url)\n",
    "with open(\"Midasiiitdlogo.png\",'wb') as w:\n",
    "    w.write(a.content)\n",
    "    \n",
    "\n",
    "temp=open(\"mainpage.txt\",'r',encoding=\"UTF-8\")\n",
    "temp_two=temp.read()\n",
    "with open(\"Midasfinal.json\",'w') as temp:\n",
    "    json.dump(temp_two,temp)"
   ]
  },
  {
   "cell_type": "code",
   "execution_count": 170,
   "metadata": {},
   "outputs": [],
   "source": [
    "r=open(\"Midasfinal.txt\",\"r\")"
   ]
  },
  {
   "cell_type": "code",
   "execution_count": 171,
   "metadata": {},
   "outputs": [
    {
     "data": {
      "text/plain": [
       "'Title: MIDAS@IIITD  MIDAS is a group of researchers at IIIT-Delhi who study, analyze, and build different multimedia systems for society leveraging multimodal information. MIDAS stands for Multimodal Digital Media Analysis Lab and it is founded by Dr. Rajiv Ratn Shah. Dr. Shah is assistant professor in the department of Computer Science and Engineering (jointly appointed with the department of Human Centered Design) at IIIT-Delhi. Our work at MIDAS includes Machine Learning, Multimedia Content Processing, Natural Language Processing, Image Processing, Multimodal Computing, Data Science, Social Media Computing, and the Internet of Things. We believe in multidisciplinary collabrative research and work closely with eminent researchers from National University of Singapore (NUS), National Institute of Informatics (NII), Nanyang Technological University (NTU), Bloomberg, Arkana Lab, etc.                                                                                         /assets/themes/lab/bootstrap/css/bootstrap.min.css\" rel=\"stylesheet/assets/themes/lab/bootstrap/css/bootstrap-theme.min.css\" rel=\"stylesheet/assets/themes/lab/bootstrap/css/bs-sticky-footer.css\" rel=\"stylesheet/assets/themes/lab/css/style.css?body=1\" media=\"all\" rel=\"stylesheet\" type=\"text/css/assets/themes/lab/images/logo/LOGO.png\" rel=\"shortcut icon//maxcdn.bootstrapcdn.com/font-awesome/4.3.0/css/font-awesome.min.css\" rel=\"stylesheethttp://fonts.googleapis.com/css?family=Lato:300italic,700italic,300,700\" rel=\"stylesheet\" type=\"text/css'"
      ]
     },
     "execution_count": 171,
     "metadata": {},
     "output_type": "execute_result"
    }
   ],
   "source": []
  },
  {
   "cell_type": "code",
   "execution_count": null,
   "metadata": {},
   "outputs": [],
   "source": []
  },
  {
   "cell_type": "code",
   "execution_count": null,
   "metadata": {},
   "outputs": [],
   "source": []
  }
 ],
 "metadata": {
  "kernelspec": {
   "display_name": "Python 3",
   "language": "python",
   "name": "python3"
  },
  "language_info": {
   "codemirror_mode": {
    "name": "ipython",
    "version": 3
   },
   "file_extension": ".py",
   "mimetype": "text/x-python",
   "name": "python",
   "nbconvert_exporter": "python",
   "pygments_lexer": "ipython3",
   "version": "3.7.3"
  }
 },
 "nbformat": 4,
 "nbformat_minor": 2
}
